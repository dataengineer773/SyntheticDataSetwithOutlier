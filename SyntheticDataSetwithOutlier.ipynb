{
 "cells": [
  {
   "cell_type": "code",
   "execution_count": 1,
   "id": "4ef37aef-8f85-4474-bc6a-8ea99468d1dc",
   "metadata": {},
   "outputs": [],
   "source": [
    "# generate gaussian data\n",
    "from numpy.random import seed\n",
    "from numpy.random import randn\n",
    "from numpy import mean\n",
    "from numpy import std"
   ]
  },
  {
   "cell_type": "code",
   "execution_count": 2,
   "id": "20921d23-7096-40eb-898b-72f62a984c7b",
   "metadata": {},
   "outputs": [],
   "source": [
    "# seed the random number generator\n",
    "seed(1)"
   ]
  },
  {
   "cell_type": "code",
   "execution_count": 3,
   "id": "0eb691db-8e31-4c26-8a63-469183313276",
   "metadata": {},
   "outputs": [],
   "source": [
    "# generate univariate observations\n",
    "data = 7 * randn(10000) + 77"
   ]
  },
  {
   "cell_type": "code",
   "execution_count": 4,
   "id": "2998b61a-e5d1-46f4-a203-1a8a367fcdf8",
   "metadata": {},
   "outputs": [
    {
     "name": "stdout",
     "output_type": "stream",
     "text": [
      "MEAN=77.068 stdv=6.992\n"
     ]
    }
   ],
   "source": [
    "# summarize\n",
    "print('MEAN=%.3f stdv=%.3f' % (mean(data), std(data)))"
   ]
  }
 ],
 "metadata": {
  "kernelspec": {
   "display_name": "Python 3 (ipykernel)",
   "language": "python",
   "name": "python3"
  },
  "language_info": {
   "codemirror_mode": {
    "name": "ipython",
    "version": 3
   },
   "file_extension": ".py",
   "mimetype": "text/x-python",
   "name": "python",
   "nbconvert_exporter": "python",
   "pygments_lexer": "ipython3",
   "version": "3.10.12"
  }
 },
 "nbformat": 4,
 "nbformat_minor": 5
}
